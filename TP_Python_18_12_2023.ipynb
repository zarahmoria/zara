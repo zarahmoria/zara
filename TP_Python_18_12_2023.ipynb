{
  "nbformat": 4,
  "nbformat_minor": 0,
  "metadata": {
    "colab": {
      "provenance": [],
      "include_colab_link": true
    },
    "kernelspec": {
      "name": "python3",
      "display_name": "Python 3"
    },
    "language_info": {
      "name": "python"
    }
  },
  "cells": [
    {
      "cell_type": "markdown",
      "metadata": {
        "id": "view-in-github",
        "colab_type": "text"
      },
      "source": [
        "<a href=\"https://colab.research.google.com/github/zarahmoria/zara/blob/main/TP_Python_18_12_2023.ipynb\" target=\"_parent\"><img src=\"https://colab.research.google.com/assets/colab-badge.svg\" alt=\"Open In Colab\"/></a>"
      ]
    },
    {
      "cell_type": "markdown",
      "source": [
        "TP d'Entrainement en language PYTHON\n",
        "\n",
        "Tâche 1 : Affichage de messages"
      ],
      "metadata": {
        "id": "aQ9XCykqJPsm"
      }
    },
    {
      "cell_type": "code",
      "source": [
        "print(\"Bonjour, bienvenue dans ce TP Python!\")"
      ],
      "metadata": {
        "colab": {
          "base_uri": "https://localhost:8080/"
        },
        "id": "e36JtdsPIEp8",
        "outputId": "8af4a4c8-b290-407a-9de1-41103426eeff"
      },
      "execution_count": 1,
      "outputs": [
        {
          "output_type": "stream",
          "name": "stdout",
          "text": [
            "Bonjour, bienvenue dans ce TP Python!\n"
          ]
        }
      ]
    },
    {
      "cell_type": "code",
      "source": [
        "print(\"Python est un langage de programmation puissant.\")\n"
      ],
      "metadata": {
        "id": "Yyw7WnWSJGja",
        "outputId": "803766e1-5e42-4aad-eb12-0acf40ab4c07",
        "colab": {
          "base_uri": "https://localhost:8080/"
        }
      },
      "execution_count": 2,
      "outputs": [
        {
          "output_type": "stream",
          "name": "stdout",
          "text": [
            "Python est un langage de programmation puissant.\n"
          ]
        }
      ]
    },
    {
      "cell_type": "markdown",
      "source": [
        "Tâche 2 : Variables et Opérations"
      ],
      "metadata": {
        "id": "6T2kpEH_Jrz4"
      }
    },
    {
      "cell_type": "code",
      "source": [
        "nombre1=10"
      ],
      "metadata": {
        "id": "T015OGlCLqPi"
      },
      "execution_count": 29,
      "outputs": []
    },
    {
      "cell_type": "code",
      "source": [
        "nombre2=5\n"
      ],
      "metadata": {
        "id": "HLyqP1zVMRz4"
      },
      "execution_count": 30,
      "outputs": []
    },
    {
      "cell_type": "code",
      "source": [
        "somme=nombre1+nombre2"
      ],
      "metadata": {
        "id": "un--rvrZMosI"
      },
      "execution_count": 19,
      "outputs": []
    },
    {
      "cell_type": "code",
      "source": [
        "produit=nombre1*nombre2"
      ],
      "metadata": {
        "id": "o7gzDyMtM5TC"
      },
      "execution_count": 18,
      "outputs": []
    },
    {
      "cell_type": "code",
      "source": [
        "print(\"La somme est :\", somme)\n",
        "print(\"Le produit est :\",produit)"
      ],
      "metadata": {
        "id": "JMjhH4FsNFpZ",
        "outputId": "3af1a1aa-1c53-40fc-8015-c40e4a74ce14",
        "colab": {
          "base_uri": "https://localhost:8080/"
        }
      },
      "execution_count": 17,
      "outputs": [
        {
          "output_type": "stream",
          "name": "stdout",
          "text": [
            "La somme est : 15\n",
            "Le produit est : 50\n"
          ]
        }
      ]
    },
    {
      "cell_type": "markdown",
      "source": [
        "Tâche 3 : Structures de Contrôle"
      ],
      "metadata": {
        "id": "zyiZO-KrPD3A"
      }
    },
    {
      "cell_type": "code",
      "source": [
        "if nombre1 > nombre2 :\n",
        "  print(nombre1, \"est plus grand que\", nombre2)\n",
        "else:\n",
        "  print(nombre2, \"est plus grand que\", nombre1)\n"
      ],
      "metadata": {
        "id": "mA9_rHr0PjvM",
        "outputId": "523f1351-b15c-4c22-baab-7fd0584ea1e3",
        "colab": {
          "base_uri": "https://localhost:8080/"
        }
      },
      "execution_count": 36,
      "outputs": [
        {
          "output_type": "stream",
          "name": "stdout",
          "text": [
            "10 est plus grand que 5\n"
          ]
        }
      ]
    },
    {
      "cell_type": "markdown",
      "source": [
        "Tâche 4 : Boucle"
      ],
      "metadata": {
        "id": "ZrtXlndvQ8n_"
      }
    },
    {
      "cell_type": "code",
      "source": [
        "for i in range (1,6):\n",
        "    print(\"veuillez afficher les nommbre \",i )"
      ],
      "metadata": {
        "id": "5gioIoORQ-mw",
        "outputId": "661d68bf-25c3-4752-f27a-d0891425772d",
        "colab": {
          "base_uri": "https://localhost:8080/"
        }
      },
      "execution_count": 43,
      "outputs": [
        {
          "output_type": "stream",
          "name": "stdout",
          "text": [
            "veuillez afficher les nommbre  1\n",
            "veuillez afficher les nommbre  2\n",
            "veuillez afficher les nommbre  3\n",
            "veuillez afficher les nommbre  4\n",
            "veuillez afficher les nommbre  5\n"
          ]
        }
      ]
    },
    {
      "cell_type": "code",
      "source": [
        "# Demande à l'utilisateur d'entrer un nombre\n",
        "n = int(input(\"Entrez un nombre: \"))\n",
        "for i in range (2,8):\n"
      ],
      "metadata": {
        "id": "XdjsXN3PUMZk",
        "outputId": "71fe816d-0940-444b-8c68-efe863f091fd",
        "colab": {
          "base_uri": "https://localhost:8080/"
        }
      },
      "execution_count": 44,
      "outputs": [
        {
          "output_type": "stream",
          "name": "stdout",
          "text": [
            "Entrez un nombre: 2\n",
            "2 est Paire\n"
          ]
        }
      ]
    },
    {
      "cell_type": "code",
      "source": [
        "for i in range (2,9):\n",
        "  if (i % 2) == 0:\n",
        "    print(\"afficher les nombre paire\",i)\n",
        "\n"
      ],
      "metadata": {
        "id": "TKWAUwmwVNxO",
        "outputId": "170ebf7d-d37b-4553-e4aa-ae0ad3e81f78",
        "colab": {
          "base_uri": "https://localhost:8080/"
        }
      },
      "execution_count": 46,
      "outputs": [
        {
          "output_type": "stream",
          "name": "stdout",
          "text": [
            "afficher les nombre paire 2\n",
            "afficher les nombre paire 4\n",
            "afficher les nombre paire 6\n",
            "afficher les nombre paire 8\n"
          ]
        }
      ]
    },
    {
      "cell_type": "markdown",
      "source": [
        "Tâche 5 : Fonction"
      ],
      "metadata": {
        "id": "QCHduWQbTp78"
      }
    },
    {
      "cell_type": "code",
      "source": [
        "def square(L):\n",
        "  for Base in L:\n",
        "    result=Base**2\n",
        "    print(\"The square of is \",result)\n",
        "  return result\n",
        "\n",
        "sqr_list = [2,4,6,8]\n",
        "square(sqr_list)"
      ],
      "metadata": {
        "id": "jJ6_vqbUTs0U",
        "outputId": "dd40b8f6-34ec-42f1-99c8-d3a03830f692",
        "colab": {
          "base_uri": "https://localhost:8080/"
        }
      },
      "execution_count": 52,
      "outputs": [
        {
          "output_type": "stream",
          "name": "stdout",
          "text": [
            "The square of is  4\n",
            "The square of is  16\n",
            "The square of is  36\n",
            "The square of is  64\n"
          ]
        },
        {
          "output_type": "execute_result",
          "data": {
            "text/plain": [
              "64"
            ]
          },
          "metadata": {},
          "execution_count": 52
        }
      ]
    },
    {
      "cell_type": "code",
      "source": [
        "sqr_list = [7]\n",
        "for carre in sqr_list:\n",
        "    result=carre**2\n",
        "    print(\"carre de 7 est \",result)"
      ],
      "metadata": {
        "id": "Vdi-09RLb-FB",
        "outputId": "cee5ac16-12aa-455a-bde2-8aa4e4ccef8d",
        "colab": {
          "base_uri": "https://localhost:8080/"
        }
      },
      "execution_count": 48,
      "outputs": [
        {
          "output_type": "stream",
          "name": "stdout",
          "text": [
            "carre de 7 est  49\n"
          ]
        }
      ]
    },
    {
      "cell_type": "markdown",
      "source": [
        " Tâche 1 : Listes et Opérations\n"
      ],
      "metadata": {
        "id": "wD2_U5aDfC9w"
      }
    },
    {
      "cell_type": "code",
      "source": [
        "nombre = [1,2,3,4,5]\n",
        "print(\"afficher la listes\", nombre )"
      ],
      "metadata": {
        "id": "2gO0OBEdipRD",
        "outputId": "10ded0a4-b44c-4979-8072-8f2936a6e3a2",
        "colab": {
          "base_uri": "https://localhost:8080/"
        }
      },
      "execution_count": 55,
      "outputs": [
        {
          "output_type": "stream",
          "name": "stdout",
          "text": [
            "afficher la listes [1, 2, 3, 4, 5]\n"
          ]
        }
      ]
    },
    {
      "cell_type": "code",
      "source": [
        "nombre.append(6)\n",
        "print(\"afficher la listes\", nombre )\n"
      ],
      "metadata": {
        "id": "IrFJUnwqjvY5",
        "outputId": "380585fd-9585-4dce-8f7b-a60b3b675f87",
        "colab": {
          "base_uri": "https://localhost:8080/"
        }
      },
      "execution_count": 71,
      "outputs": [
        {
          "output_type": "stream",
          "name": "stdout",
          "text": [
            "afficher la listes [1, 2, 3, 4, 5, 6, 6]\n"
          ]
        }
      ]
    },
    {
      "cell_type": "code",
      "source": [
        "list = [1,2,3,4]\n",
        "list = [i*2 for i in list]\n",
        "print(\"Liste des nombres multipliés par 2 \" ,list)"
      ],
      "metadata": {
        "id": "XyVUvt_Pp1iO",
        "outputId": "05e97822-845b-4f76-f945-829bd62a9cea",
        "colab": {
          "base_uri": "https://localhost:8080/"
        }
      },
      "execution_count": 72,
      "outputs": [
        {
          "output_type": "stream",
          "name": "stdout",
          "text": [
            "Liste des nombres multipliés par 2  [2, 4, 6, 8]\n"
          ]
        }
      ]
    },
    {
      "cell_type": "markdown",
      "source": [
        "Tâche 2 : Dictionnaires\n"
      ],
      "metadata": {
        "id": "rU5lbw0xrQ-o"
      }
    },
    {
      "cell_type": "code",
      "source": [
        "etudiante = dict()\n",
        "etudiante[\"nom\"] = \"Alice \"\n",
        "etudiante[\"age\"] = \"20\"\n",
        "{'nom': 'Alice', 'age': '20'}"
      ],
      "metadata": {
        "id": "7W-xbgiPrUEi",
        "outputId": "a9163d0c-13aa-4a58-e8a4-e78c97665b01",
        "colab": {
          "base_uri": "https://localhost:8080/"
        }
      },
      "execution_count": 80,
      "outputs": [
        {
          "output_type": "execute_result",
          "data": {
            "text/plain": [
              "{'nom': 'Alice', 'age': '20'}"
            ]
          },
          "metadata": {},
          "execution_count": 80
        }
      ]
    },
    {
      "cell_type": "markdown",
      "source": [
        " Tâche 3 : Fonction avec Paramètres Optionnels"
      ],
      "metadata": {
        "id": "9qG0FxbJBM7I"
      }
    },
    {
      "cell_type": "markdown",
      "source": [
        "fonction du cube d'un nombre"
      ],
      "metadata": {
        "id": "x8iSt6UPCVYy"
      }
    },
    {
      "cell_type": "code",
      "source": [
        "sqr_list = [7]\n",
        "for carre in sqr_list:\n",
        "    result=carre**3\n",
        "    print(\"carre de 7 est \",result)"
      ],
      "metadata": {
        "id": "-6TF6VyrBOlL",
        "outputId": "0865ae2f-b880-48c4-9e68-a41708d0a469",
        "colab": {
          "base_uri": "https://localhost:8080/"
        }
      },
      "execution_count": 81,
      "outputs": [
        {
          "output_type": "stream",
          "name": "stdout",
          "text": [
            "carre de 7 est  343\n"
          ]
        }
      ]
    },
    {
      "cell_type": "code",
      "source": [],
      "metadata": {
        "id": "Cjp-vxCLDB9X"
      },
      "execution_count": null,
      "outputs": []
    }
  ]
}